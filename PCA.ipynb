{
  "cells": [
    {
      "cell_type": "code",
      "execution_count": null,
      "metadata": {
        "id": "mI8n6Eyxxjrp"
      },
      "outputs": [],
      "source": [
        "import numpy as np\n",
        "import pandas as pd\n",
        "import matplotlib.pyplot as plt\n",
        "import seaborn as sns\n",
        "import matplotlib.pyplot as plt\n",
        "from tqdm import tqdm\n",
        "from sklearn.model_selection import train_test_split"
      ]
    },
    {
      "cell_type": "code",
      "execution_count": null,
      "metadata": {
        "id": "5HNPf1rUyH1R"
      },
      "outputs": [],
      "source": [
        "class PCA:\n",
        "    def __init__(self, n_components):\n",
        "        self.n_components = n_components\n",
        "        self.components = None\n",
        "        self.mean = None\n",
        "\n",
        "    def fit(self, X):\n",
        "        # mean centering\n",
        "        self.mean = np.mean(X, axis=0)\n",
        "        X = X -  self.mean\n",
        "\n",
        "        # covariance, functions needs samples as columns\n",
        "        cov = np.cov(X.T)\n",
        "\n",
        "        # eigenvectors, eigenvalues\n",
        "        eigenvectors, eigenvalues = np.linalg.eig(cov)\n",
        "\n",
        "        # eigenvectors v = [:, i] column vector, transpose this for easier calculations\n",
        "        eigenvectors = eigenvectors.T\n",
        "\n",
        "        # sort eigenvectors\n",
        "        idxs = np.argsort(eigenvalues)[::-1]\n",
        "        eigenvalues = eigenvalues[idxs]\n",
        "        eigenvectors = eigenvectors[idxs]\n",
        "\n",
        "        self.components = eigenvectors[:self.n_components]\n",
        "\n",
        "    def transform(self, X):\n",
        "        # projects data\n",
        "        X = X - self.mean\n",
        "        return np.dot(X, self.components.T)"
      ]
    },
    {
      "cell_type": "code",
      "execution_count": null,
      "metadata": {
        "id": "VsV3QN6VwaW_"
      },
      "outputs": [],
      "source": [
        "class MyFuzzy:\n",
        "\n",
        "  def __init__(self, C=None, m=1.5):\n",
        "    self.C = C\n",
        "    self.m = m\n",
        "    self.clusters_centroid = None\n",
        "\n",
        "  def fit(self, X, C=None, m=1.5, epochs=20):\n",
        "    self.m = m\n",
        "    if C is not None:\n",
        "      self.C = C\n",
        "\n",
        "    # get random data points to be centroids\n",
        "    v_cluster_centers = X[np.random.choice(X.shape[0], size=self.C)]\n",
        "\n",
        "    distances = None\n",
        "    u_memberships = None\n",
        "\n",
        "    for e in tqdm(range(epochs)):\n",
        "      # step 1 calculate distance matrix\n",
        "      distances = self.calculate_distance_matrix(X, v_cluster_centers)\n",
        "\n",
        "      # step 2 calculate membership function\n",
        "      u_memberships = self.calculate_membership_matrix(distances, self.m)\n",
        "\n",
        "      # step 3 calculate new clusters' centroid\n",
        "      k = np.power(u_memberships, self.m)\n",
        "      r = k[:,:,np.newaxis]*X[:,np.newaxis]\n",
        "      r = np.sum(r, axis=0)\n",
        "      k = np.sum(k, axis=0)\n",
        "      v_cluster_centers = r/k[:,np.newaxis]\n",
        "    self.clusters_centroid = v_cluster_centers\n",
        "\n",
        "\n",
        "  def calculate_distance_matrix(self, X, cluster_centers):\n",
        "      distances = X[:,np.newaxis] - cluster_centers[np.newaxis] + 1e-9\n",
        "      distances = np.sum(distances**2, axis=2)\n",
        "      distances = np.sqrt(distances)\n",
        "      return distances\n",
        "\n",
        "  def calculate_membership_matrix(self, distances, m):\n",
        "      r = np.power(distances, -2/(m-1))\n",
        "      k = np.sum(r, axis=1)\n",
        "      k = np.power(k, -1)\n",
        "      u_memberships = r*k[:,np.newaxis]\n",
        "      return u_memberships\n",
        "\n",
        "  def soft_predict(self, X):\n",
        "    n = X.shape[0]\n",
        "\n",
        "    distances = self.calculate_distance_matrix(X, self.clusters_centroid)\n",
        "    u_memberships = self.calculate_membership_matrix(distances, self.m)\n",
        "\n",
        "    return u_memberships\n",
        "\n",
        "\n",
        "  def predict(self, X):\n",
        "    return self.soft_predict(X).argmax(axis=-1)\n",
        "\n",
        "  def accuracy(self, Y_true, Y_pred):\n",
        "    c = 0\n",
        "    for i in range(len(Y_pred)):\n",
        "      if Y_pred[i] == Y_true[i]:\n",
        "        c+=1\n",
        "    acc = c/len(Y_pred) * 100\n",
        "    return max(100-acc,acc) "
      ]
    },
    {
      "cell_type": "code",
      "execution_count": null,
      "metadata": {
        "id": "s5vdgIqgyUTL"
      },
      "outputs": [],
      "source": [
        "data = './BankNote_Authentication.csv'\n",
        "df = pd.read_csv(data)"
      ]
    },
    {
      "cell_type": "code",
      "execution_count": null,
      "metadata": {
        "colab": {
          "base_uri": "https://localhost:8080/",
          "height": 206
        },
        "id": "aqqV6zbhyX8i",
        "outputId": "43bb3fa7-84ff-445a-d482-af9e87f62efa"
      },
      "outputs": [
        {
          "data": {
            "text/html": [
              "\n",
              "  <div id=\"df-6b7d9198-0c51-491f-ac3e-19d4c441b354\">\n",
              "    <div class=\"colab-df-container\">\n",
              "      <div>\n",
              "<style scoped>\n",
              "    .dataframe tbody tr th:only-of-type {\n",
              "        vertical-align: middle;\n",
              "    }\n",
              "\n",
              "    .dataframe tbody tr th {\n",
              "        vertical-align: top;\n",
              "    }\n",
              "\n",
              "    .dataframe thead th {\n",
              "        text-align: right;\n",
              "    }\n",
              "</style>\n",
              "<table border=\"1\" class=\"dataframe\">\n",
              "  <thead>\n",
              "    <tr style=\"text-align: right;\">\n",
              "      <th></th>\n",
              "      <th>variance</th>\n",
              "      <th>skewness</th>\n",
              "      <th>curtosis</th>\n",
              "      <th>entropy</th>\n",
              "      <th>class</th>\n",
              "    </tr>\n",
              "  </thead>\n",
              "  <tbody>\n",
              "    <tr>\n",
              "      <th>0</th>\n",
              "      <td>3.62160</td>\n",
              "      <td>8.6661</td>\n",
              "      <td>-2.8073</td>\n",
              "      <td>-0.44699</td>\n",
              "      <td>0</td>\n",
              "    </tr>\n",
              "    <tr>\n",
              "      <th>1</th>\n",
              "      <td>4.54590</td>\n",
              "      <td>8.1674</td>\n",
              "      <td>-2.4586</td>\n",
              "      <td>-1.46210</td>\n",
              "      <td>0</td>\n",
              "    </tr>\n",
              "    <tr>\n",
              "      <th>2</th>\n",
              "      <td>3.86600</td>\n",
              "      <td>-2.6383</td>\n",
              "      <td>1.9242</td>\n",
              "      <td>0.10645</td>\n",
              "      <td>0</td>\n",
              "    </tr>\n",
              "    <tr>\n",
              "      <th>3</th>\n",
              "      <td>3.45660</td>\n",
              "      <td>9.5228</td>\n",
              "      <td>-4.0112</td>\n",
              "      <td>-3.59440</td>\n",
              "      <td>0</td>\n",
              "    </tr>\n",
              "    <tr>\n",
              "      <th>4</th>\n",
              "      <td>0.32924</td>\n",
              "      <td>-4.4552</td>\n",
              "      <td>4.5718</td>\n",
              "      <td>-0.98880</td>\n",
              "      <td>0</td>\n",
              "    </tr>\n",
              "  </tbody>\n",
              "</table>\n",
              "</div>\n",
              "      <button class=\"colab-df-convert\" onclick=\"convertToInteractive('df-6b7d9198-0c51-491f-ac3e-19d4c441b354')\"\n",
              "              title=\"Convert this dataframe to an interactive table.\"\n",
              "              style=\"display:none;\">\n",
              "        \n",
              "  <svg xmlns=\"http://www.w3.org/2000/svg\" height=\"24px\"viewBox=\"0 0 24 24\"\n",
              "       width=\"24px\">\n",
              "    <path d=\"M0 0h24v24H0V0z\" fill=\"none\"/>\n",
              "    <path d=\"M18.56 5.44l.94 2.06.94-2.06 2.06-.94-2.06-.94-.94-2.06-.94 2.06-2.06.94zm-11 1L8.5 8.5l.94-2.06 2.06-.94-2.06-.94L8.5 2.5l-.94 2.06-2.06.94zm10 10l.94 2.06.94-2.06 2.06-.94-2.06-.94-.94-2.06-.94 2.06-2.06.94z\"/><path d=\"M17.41 7.96l-1.37-1.37c-.4-.4-.92-.59-1.43-.59-.52 0-1.04.2-1.43.59L10.3 9.45l-7.72 7.72c-.78.78-.78 2.05 0 2.83L4 21.41c.39.39.9.59 1.41.59.51 0 1.02-.2 1.41-.59l7.78-7.78 2.81-2.81c.8-.78.8-2.07 0-2.86zM5.41 20L4 18.59l7.72-7.72 1.47 1.35L5.41 20z\"/>\n",
              "  </svg>\n",
              "      </button>\n",
              "      \n",
              "  <style>\n",
              "    .colab-df-container {\n",
              "      display:flex;\n",
              "      flex-wrap:wrap;\n",
              "      gap: 12px;\n",
              "    }\n",
              "\n",
              "    .colab-df-convert {\n",
              "      background-color: #E8F0FE;\n",
              "      border: none;\n",
              "      border-radius: 50%;\n",
              "      cursor: pointer;\n",
              "      display: none;\n",
              "      fill: #1967D2;\n",
              "      height: 32px;\n",
              "      padding: 0 0 0 0;\n",
              "      width: 32px;\n",
              "    }\n",
              "\n",
              "    .colab-df-convert:hover {\n",
              "      background-color: #E2EBFA;\n",
              "      box-shadow: 0px 1px 2px rgba(60, 64, 67, 0.3), 0px 1px 3px 1px rgba(60, 64, 67, 0.15);\n",
              "      fill: #174EA6;\n",
              "    }\n",
              "\n",
              "    [theme=dark] .colab-df-convert {\n",
              "      background-color: #3B4455;\n",
              "      fill: #D2E3FC;\n",
              "    }\n",
              "\n",
              "    [theme=dark] .colab-df-convert:hover {\n",
              "      background-color: #434B5C;\n",
              "      box-shadow: 0px 1px 3px 1px rgba(0, 0, 0, 0.15);\n",
              "      filter: drop-shadow(0px 1px 2px rgba(0, 0, 0, 0.3));\n",
              "      fill: #FFFFFF;\n",
              "    }\n",
              "  </style>\n",
              "\n",
              "      <script>\n",
              "        const buttonEl =\n",
              "          document.querySelector('#df-6b7d9198-0c51-491f-ac3e-19d4c441b354 button.colab-df-convert');\n",
              "        buttonEl.style.display =\n",
              "          google.colab.kernel.accessAllowed ? 'block' : 'none';\n",
              "\n",
              "        async function convertToInteractive(key) {\n",
              "          const element = document.querySelector('#df-6b7d9198-0c51-491f-ac3e-19d4c441b354');\n",
              "          const dataTable =\n",
              "            await google.colab.kernel.invokeFunction('convertToInteractive',\n",
              "                                                     [key], {});\n",
              "          if (!dataTable) return;\n",
              "\n",
              "          const docLinkHtml = 'Like what you see? Visit the ' +\n",
              "            '<a target=\"_blank\" href=https://colab.research.google.com/notebooks/data_table.ipynb>data table notebook</a>'\n",
              "            + ' to learn more about interactive tables.';\n",
              "          element.innerHTML = '';\n",
              "          dataTable['output_type'] = 'display_data';\n",
              "          await google.colab.output.renderOutput(dataTable, element);\n",
              "          const docLink = document.createElement('div');\n",
              "          docLink.innerHTML = docLinkHtml;\n",
              "          element.appendChild(docLink);\n",
              "        }\n",
              "      </script>\n",
              "    </div>\n",
              "  </div>\n",
              "  "
            ],
            "text/plain": [
              "   variance  skewness  curtosis  entropy  class\n",
              "0   3.62160    8.6661   -2.8073 -0.44699      0\n",
              "1   4.54590    8.1674   -2.4586 -1.46210      0\n",
              "2   3.86600   -2.6383    1.9242  0.10645      0\n",
              "3   3.45660    9.5228   -4.0112 -3.59440      0\n",
              "4   0.32924   -4.4552    4.5718 -0.98880      0"
            ]
          },
          "execution_count": 5,
          "metadata": {},
          "output_type": "execute_result"
        }
      ],
      "source": [
        "df.head()"
      ]
    },
    {
      "cell_type": "code",
      "execution_count": null,
      "metadata": {
        "colab": {
          "base_uri": "https://localhost:8080/",
          "height": 300
        },
        "id": "mlPwJ8iTybUR",
        "outputId": "8902eb6b-1bbe-4136-81d1-97e668921e3d"
      },
      "outputs": [
        {
          "data": {
            "text/plain": [
              "<matplotlib.axes._subplots.AxesSubplot at 0x7f8a69d00910>"
            ]
          },
          "execution_count": 7,
          "metadata": {},
          "output_type": "execute_result"
        },
        {
          "data": {
            "image/png": "[encoded data removed]",
            "text/plain": [
              "<Figure size 432x288 with 1 Axes>"
            ]
          },
          "metadata": {
            "needs_background": "light"
          },
          "output_type": "display_data"
        }
      ],
      "source": [
        "sns.countplot(data=df, x='class')"
      ]
    },
    {
      "cell_type": "code",
      "execution_count": null,
      "metadata": {
        "colab": {
          "base_uri": "https://localhost:8080/"
        },
        "id": "dawu5kOrRCVG",
        "outputId": "830f5917-85ac-4674-9fdf-59e33452dab6"
      },
      "outputs": [
        {
          "data": {
            "text/plain": [
              "variance    0\n",
              "skewness    0\n",
              "curtosis    0\n",
              "entropy     0\n",
              "class       0\n",
              "dtype: int64"
            ]
          },
          "execution_count": 176,
          "metadata": {},
          "output_type": "execute_result"
        }
      ],
      "source": [
        "# All data are numbers there is no null or missed values\n",
        "df.isnull().sum()"
      ]
    },
    {
      "cell_type": "code",
      "execution_count": null,
      "metadata": {
        "colab": {
          "base_uri": "https://localhost:8080/"
        },
        "id": "v3VicX9py321",
        "outputId": "7f9a3cba-ee62-4c0c-a7d8-80c0869df76e"
      },
      "outputs": [
        {
          "data": {
            "text/plain": [
              "(1372, 5)"
            ]
          },
          "execution_count": 12,
          "metadata": {},
          "output_type": "execute_result"
        }
      ],
      "source": [
        "df.shape"
      ]
    },
    {
      "cell_type": "code",
      "execution_count": null,
      "metadata": {
        "id": "_YHk-JIly-fg"
      },
      "outputs": [],
      "source": [
        "X = df.drop(['class'], axis=1).to_numpy()\n",
        "y = df['class'].to_numpy()"
      ]
    },
    {
      "cell_type": "code",
      "execution_count": null,
      "metadata": {
        "id": "vUruJaKvRKDz"
      },
      "outputs": [],
      "source": [
        "X_train, X_test, y_train, y_test = train_test_split(X, y, test_size=0.3)"
      ]
    },
    {
      "cell_type": "code",
      "execution_count": null,
      "metadata": {
        "colab": {
          "base_uri": "https://localhost:8080/"
        },
        "id": "suPSQL0FO36Q",
        "outputId": "6e200f92-d596-4400-800f-2c7684a0c980"
      },
      "outputs": [
        {
          "name": "stderr",
          "output_type": "stream",
          "text": [
            "100%|██████████| 50/50 [00:00<00:00, 1058.52it/s]\n"
          ]
        }
      ],
      "source": [
        "# Apply Fuzzy-C-Means before PCA\n",
        "model = MyFuzzy(C=2, m=1.25)\n",
        "model.fit(X_train, epochs=50)"
      ]
    },
    {
      "cell_type": "code",
      "execution_count": null,
      "metadata": {
        "colab": {
          "base_uri": "https://localhost:8080/"
        },
        "id": "IyFTED0BPBN8",
        "outputId": "c8d75fc7-35f1-4d2e-e9f3-8bad64aac2d2"
      },
      "outputs": [
        {
          "name": "stdout",
          "output_type": "stream",
          "text": [
            "accuracy before pca  60.19417475728155\n"
          ]
        }
      ],
      "source": [
        "Y_pred = model.predict(X_test)\n",
        "acc = model.accuracy(Y_pred, y_test)\n",
        "print('accuracy before pca ', acc)"
      ]
    },
    {
      "cell_type": "code",
      "execution_count": null,
      "metadata": {
        "id": "bdol89oszc7d"
      },
      "outputs": [],
      "source": [
        "# Apply PCA\n",
        "pca = PCA(2)\n",
        "pca.fit(X)"
      ]
    },
    {
      "cell_type": "code",
      "execution_count": null,
      "metadata": {
        "colab": {
          "base_uri": "https://localhost:8080/"
        },
        "id": "5FrQgXLu0I40",
        "outputId": "8cd06486-88f9-41c0-b911-0cea6f79d564"
      },
      "outputs": [
        {
          "name": "stdout",
          "output_type": "stream",
          "text": [
            "(1372, 2)\n",
            "[[ 331.05361096  216.78236911]\n",
            " [ 300.07351436  254.47259888]\n",
            " [-206.41434997  135.52649275]\n",
            " [ 338.91582833  200.35050537]\n",
            " [-302.493687    -57.42774506]]\n"
          ]
        }
      ],
      "source": [
        "X_projected = pca.transform(X)\n",
        "print(X_projected.shape)\n",
        "print(X_projected[:5])"
      ]
    },
    {
      "cell_type": "code",
      "execution_count": null,
      "metadata": {
        "id": "gwP1z9TGSbnK"
      },
      "outputs": [],
      "source": [
        "X_train, X_test, y_train, y_test = train_test_split(X_projected, y, test_size=0.3)"
      ]
    },
    {
      "cell_type": "code",
      "execution_count": null,
      "metadata": {
        "colab": {
          "base_uri": "https://localhost:8080/"
        },
        "id": "8eA7cbvA0gYU",
        "outputId": "822bc8c7-54be-425a-af04-e381608896fb"
      },
      "outputs": [
        {
          "name": "stderr",
          "output_type": "stream",
          "text": [
            "100%|██████████| 50/50 [00:00<00:00, 983.76it/s]\n"
          ]
        }
      ],
      "source": [
        "# after applying pca\n",
        "model = MyFuzzy(C=2, m=1.25)\n",
        "model.fit(X_train, epochs=50)"
      ]
    },
    {
      "cell_type": "code",
      "execution_count": null,
      "metadata": {
        "colab": {
          "base_uri": "https://localhost:8080/"
        },
        "id": "xf1R-P4-9c4U",
        "outputId": "37fb0c6e-a62b-4a6b-a2ab-544f4a8c741b"
      },
      "outputs": [
        {
          "name": "stdout",
          "output_type": "stream",
          "text": [
            "accuracy after pca  76.2135922330097\n"
          ]
        }
      ],
      "source": [
        "Y_pred = model.predict(X_test)\n",
        "acc = model.accuracy(Y_pred, y_test)\n",
        "print('accuracy after pca ', acc)"
      ]
    }
  ],
  "metadata": {
    "colab": {
      "provenance": []
    },
    "kernelspec": {
      "display_name": "Python 3",
      "name": "python3"
    },
    "language_info": {
      "name": "python"
    }
  },
  "nbformat": 4,
  "nbformat_minor": 0
}
